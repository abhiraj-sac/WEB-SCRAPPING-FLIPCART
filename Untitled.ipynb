{
 "cells": [
  {
   "cell_type": "code",
   "execution_count": 88,
   "id": "de32b5b6",
   "metadata": {},
   "outputs": [
    {
     "name": "stdout",
     "output_type": "stream",
     "text": [
      "      PRICE                                       Product\n",
      "0   ₹49,999   SAMSUNG Galaxy S22 5G (Bora Purple, 128 GB)\n",
      "1   ₹46,990             vivo X60 (Midnight Black, 256 GB)\n",
      "2   ₹48,990         OnePlus 9 Pro 5G (Pine Green, 256 GB)\n",
      "3   ₹43,599      OnePlus 10T 5G (Moonstone Black, 128 GB)\n",
      "4   ₹28,055    SAMSUNG Galaxy S20 FE (Cloud Mint, 128 GB)\n",
      "..      ...                                           ...\n",
      "67  ₹37,499  SAMSUNG Galaxy A54 5G (Awesome Lime, 256 GB)\n",
      "68  ₹27,099            OnePlus 10R (Forest Green, 128 GB)\n",
      "69  ₹38,999          realme GT Neo 3 (Nitro Blue, 256 GB)\n",
      "70  ₹45,799                    IQOO 9T 5G (ALPHA, 128 GB)\n",
      "71  ₹38,999               APPLE iPhone 11 (White, 128 GB)\n",
      "\n",
      "[72 rows x 2 columns]\n"
     ]
    }
   ],
   "source": [
    "import pandas as pd\n",
    "import requests\n",
    "import numpy as np\n",
    "from bs4 import BeautifulSoup\n",
    "# for i in range(2,10):\n",
    "Product_name=[]\n",
    "rate=[]\n",
    "Prices=[]\n",
    "dess=[]\n",
    "Description=[]\n",
    "rev=[]\n",
    "for i in range(2,8):\n",
    "    url='https://www.flipkart.com/search?q=mobiles+under+50000&otracker=search&otracker1=search&marketplace=FLIPKART&as-show=on&as=off&page='+str(i)\n",
    "    #   print(url)\n",
    "    r = requests.get(url)\n",
    "       # print(r)\n",
    "    soup = BeautifulSoup(r.text,\"lxml\")\n",
    "    box=soup.find(\"div\",class_=\"_1YokD2 _3Mn1Gg\")\n",
    "    name=soup.find_all(\"div\",class_=\"_4rR01T\")\n",
    "    p=soup.find_all(\"div\",class_=\"_30jeq3 _1_WHN1\")\n",
    "    des=soup.find_all(\"ul\",class_=\"_1xgFaf\")\n",
    "    revs=soup.find_all(\"div\",class_=\"_3LWZlK\")\n",
    "                # print(name)\n",
    "                  # print(soup)\n",
    "                #   np=soup.find(\"a\",class_=\"_1LKTO3\").get(\"href\")\n",
    "                #   cn=\"https://www.flipkart.com/\"+np\n",
    "                # print(cn)\n",
    "    for i in name:\n",
    "        try:\n",
    "         Product_name.append(i.text)\n",
    "        except:\n",
    "         name.append(np.nan)\n",
    "    for i in p:\n",
    "        try:\n",
    "         rate.append(i.text)\n",
    "        except:\n",
    "         rate.append(np.nan)\n",
    "    for i in des:\n",
    "        try:\n",
    "          dess.append(i.text)\n",
    "        except:\n",
    "          dess.append(np.nan)\n",
    "    for i in revs:\n",
    "        try:\n",
    "         rev.append(i.text)\n",
    "        except:\n",
    "         rev.append(np.nan)  \n",
    "\n",
    "# print(dess) \n",
    "# len(Product_name)\n",
    "df = pd.DataFrame({\"PRICE\":rate,\"Product\":Product_name})\n",
    "# df = pd.DataFrame.from_dict(a, orient='index')\n",
    "# df = df.transpose()\n",
    "print(df)\n",
    "df.to_csv(\"flipcart_Mobile_data_under_50000.csv\")"
   ]
  },
  {
   "cell_type": "code",
   "execution_count": null,
   "id": "46d0d045",
   "metadata": {},
   "outputs": [],
   "source": []
  }
 ],
 "metadata": {
  "kernelspec": {
   "display_name": "Python 3 (ipykernel)",
   "language": "python",
   "name": "python3"
  },
  "language_info": {
   "codemirror_mode": {
    "name": "ipython",
    "version": 3
   },
   "file_extension": ".py",
   "mimetype": "text/x-python",
   "name": "python",
   "nbconvert_exporter": "python",
   "pygments_lexer": "ipython3",
   "version": "3.11.5"
  }
 },
 "nbformat": 4,
 "nbformat_minor": 5
}
